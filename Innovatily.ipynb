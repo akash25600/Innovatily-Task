{
  "nbformat": 4,
  "nbformat_minor": 0,
  "metadata": {
    "colab": {
      "provenance": []
    },
    "kernelspec": {
      "name": "python3",
      "display_name": "Python 3"
    },
    "language_info": {
      "name": "python"
    }
  },
  "cells": [
    {
      "cell_type": "markdown",
      "source": [
        "# **Overview of the Task:**\n",
        "\n",
        "This task involves implementing various programming concepts in Python, including Object-Oriented Programming (OOP), data manipulation with Pandas, algorithmic problem-solving, and multithreading.\n",
        "\n",
        "**Object-Oriented Programming: Library System**\n",
        "\n",
        "A Book class is created to represent books with attributes: title, author, and ISBN.\n",
        "\n",
        "A Library class is implemented to manage books, including adding, removing, and displaying books.\n",
        "\n",
        "Demonstrates the use of class methods to manipulate objects in a structured manner.\n",
        "\n",
        "**Pandas: DataFrame Manipulation**\n",
        "\n",
        "A Pandas DataFrame is created with product sales data.\n",
        "\n",
        "Operations performed include:\n",
        "\n",
        "Finding total sales per product.\n",
        "\n",
        "Finding the highest sales value per region.\n",
        "\n",
        "Adding a new column for a discounted price.\n",
        "\n",
        "**String Manipulation: Reverse Words in a String**\n",
        "\n",
        "A function is implemented to reverse the words in a string without using built-in reverse functions.\n",
        "\n",
        "**Algorithm: Finding a Missing Number in an Array**\n",
        "\n",
        "Given a list of n-1 numbers from 1 to n, a function is implemented to determine the missing number using the sum formula approach.\n",
        "\n",
        "**Multithreading: Sum of Squares**\n",
        "\n",
        "A program is written to compute the sum of squares of numbers from 1 to n using a separate thread for performance efficiency."
      ],
      "metadata": {
        "id": "ECBQ_hYgTlpu"
      }
    },
    {
      "cell_type": "markdown",
      "source": [
        "# **1.Object-Oriented Programming: Library System**"
      ],
      "metadata": {
        "id": "O6cOUfS_SSai"
      }
    },
    {
      "cell_type": "code",
      "execution_count": 1,
      "metadata": {
        "colab": {
          "base_uri": "https://localhost:8080/"
        },
        "id": "iOvfLLGbRbZN",
        "outputId": "fa361490-d42f-4cc1-8f44-81a3eafe7b76"
      },
      "outputs": [
        {
          "output_type": "stream",
          "name": "stdout",
          "text": [
            "Python Basics by John Doe (ISBN: 1234)\n",
            "Data Science by Jane Doe (ISBN: 5678)\n",
            "Data Science by Jane Doe (ISBN: 5678)\n"
          ]
        }
      ],
      "source": [
        "# import threading\n",
        "import pandas as pd\n",
        "\n",
        "# 1. Object-Oriented Programming: Library System\n",
        "class Book:\n",
        "    def __init__(self, title, author, isbn):\n",
        "        self.title = title\n",
        "        self.author = author\n",
        "        self.isbn = isbn\n",
        "\n",
        "    def __str__(self):\n",
        "        return f\"{self.title} by {self.author} (ISBN: {self.isbn})\"\n",
        "\n",
        "class Library:\n",
        "    def __init__(self):\n",
        "        self.books = []\n",
        "\n",
        "    def add_book(self, book):\n",
        "        self.books.append(book)\n",
        "\n",
        "    def remove_book(self, isbn):\n",
        "        self.books = [book for book in self.books if book.isbn != isbn]\n",
        "\n",
        "    def display_books(self):\n",
        "        for book in self.books:\n",
        "            print(book)\n",
        "\n",
        "# Example\n",
        "lib = Library()\n",
        "book1 = Book(\"Python Basics\", \"Akash\", \"1234\")\n",
        "book2 = Book(\"Data Science\", \"Maria\", \"5678\")\n",
        "lib.add_book(book1)\n",
        "lib.add_book(book2)\n",
        "lib.display_books()\n",
        "lib.remove_book(\"2443\")\n",
        "lib.display_books()"
      ]
    },
    {
      "cell_type": "markdown",
      "source": [
        "# ** 2. Pandas: DataFrame Manipulation**"
      ],
      "metadata": {
        "id": "YFhZGTwQSaSC"
      }
    },
    {
      "cell_type": "code",
      "source": [
        "# 2. Pandas: DataFrame Manipulation\n",
        "data = {\n",
        "    'Product': ['Z', 'E', 'Z', 'X', 'E', 'X'],\n",
        "    'Sales': [100, 200, 150, 300, 250, 400],\n",
        "    'Region': ['North', 'South', 'North', 'East', 'South', 'East']\n",
        "}\n",
        "df = pd.DataFrame(data)\n",
        "\n",
        "# Total sales per product\n",
        "total_sales = df.groupby('Product')['Sales'].sum()\n",
        "print(\"Total Sales per Product:\\n\", total_sales)\n",
        "\n",
        "# Highest sales value per region\n",
        "highest_sales = df.groupby('Region')['Sales'].max()\n",
        "print(\"Highest Sales per Region:\\n\", highest_sales)\n",
        "\n",
        "# Adding a new column 'Discounted Price'\n",
        "df['Discounted Price'] = df['Sales'] * 0.9\n",
        "print(\"Updated DataFrame:\\n\", df)\n"
      ],
      "metadata": {
        "colab": {
          "base_uri": "https://localhost:8080/"
        },
        "id": "iRR9PHihSB4g",
        "outputId": "47fd541f-ca4a-4b77-9891-06b8fbbe035a"
      },
      "execution_count": 2,
      "outputs": [
        {
          "output_type": "stream",
          "name": "stdout",
          "text": [
            "Total Sales per Product:\n",
            " Product\n",
            "E    450\n",
            "X    700\n",
            "Z    250\n",
            "Name: Sales, dtype: int64\n",
            "Highest Sales per Region:\n",
            " Region\n",
            "East     400\n",
            "North    150\n",
            "South    250\n",
            "Name: Sales, dtype: int64\n",
            "Updated DataFrame:\n",
            "   Product  Sales Region  Discounted Price\n",
            "0       Z    100  North              90.0\n",
            "1       E    200  South             180.0\n",
            "2       Z    150  North             135.0\n",
            "3       X    300   East             270.0\n",
            "4       E    250  South             225.0\n",
            "5       X    400   East             360.0\n"
          ]
        }
      ]
    },
    {
      "cell_type": "markdown",
      "source": [
        "# **3. Reverse Words in a String**"
      ],
      "metadata": {
        "id": "YAQTKumRS2Vl"
      }
    },
    {
      "cell_type": "code",
      "source": [
        "# 3. Reverse Words in a String\n",
        "def reverse_words(s):\n",
        "    words = s.split()\n",
        "    reversed_str = \" \".join(words[::-1])\n",
        "    return reversed_str\n",
        "\n",
        "print(reverse_words(\"The World is great\"))"
      ],
      "metadata": {
        "colab": {
          "base_uri": "https://localhost:8080/"
        },
        "id": "QCM7xMyWSteM",
        "outputId": "677f43ab-8c74-48f6-9f3f-7fbd067bef28"
      },
      "execution_count": 3,
      "outputs": [
        {
          "output_type": "stream",
          "name": "stdout",
          "text": [
            "great is World The\n"
          ]
        }
      ]
    },
    {
      "cell_type": "markdown",
      "source": [
        "# **4. Algorithm: Find Missing Number in an Array**"
      ],
      "metadata": {
        "id": "BuPU6uRpTCyN"
      }
    },
    {
      "cell_type": "code",
      "source": [
        "# 4. Algorithm: Find Missing Number in an Array\n",
        "def find_missing_number(arr):\n",
        "    n = len(arr) + 1\n",
        "    expected_sum = n * (n + 1) // 2\n",
        "    actual_sum = sum(arr)\n",
        "    return expected_sum - actual_sum\n",
        "\n",
        "print(find_missing_number([1, 2, 4, 5, 6]))"
      ],
      "metadata": {
        "colab": {
          "base_uri": "https://localhost:8080/"
        },
        "id": "9RPxzh8pS6rv",
        "outputId": "4f13770f-9118-449d-8f90-e4d65c3632ab"
      },
      "execution_count": 4,
      "outputs": [
        {
          "output_type": "stream",
          "name": "stdout",
          "text": [
            "3\n"
          ]
        }
      ]
    },
    {
      "cell_type": "markdown",
      "source": [
        "# 5.Multithreading: Sum of Squares Using Threads"
      ],
      "metadata": {
        "id": "xQZJKf29TJhY"
      }
    },
    {
      "cell_type": "code",
      "source": [
        "# 5. Multithreading: Sum of Squares Using Threads\n",
        "import threading\n",
        "def square_sum(n, result):\n",
        "    result.append(sum(i * i for i in range(1, n + 1)))\n",
        "\n",
        "n = 10\n",
        "result = []\n",
        "th = threading.Thread(target=square_sum, args=(n, result))\n",
        "th.start()\n",
        "th.join()\n",
        "print(\"Sum of squares:\", result[0])"
      ],
      "metadata": {
        "colab": {
          "base_uri": "https://localhost:8080/"
        },
        "id": "yDC_Avs2TEtm",
        "outputId": "39897976-2ae1-4702-9519-a8db2281721e"
      },
      "execution_count": 6,
      "outputs": [
        {
          "output_type": "stream",
          "name": "stdout",
          "text": [
            "Sum of squares: 385\n"
          ]
        }
      ]
    },
    {
      "cell_type": "code",
      "source": [],
      "metadata": {
        "id": "y-EuAQKTTIXN"
      },
      "execution_count": null,
      "outputs": []
    }
  ]
}